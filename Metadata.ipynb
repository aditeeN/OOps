{
 "cells": [
  {
   "cell_type": "code",
   "execution_count": 34,
   "id": "6bf3e388",
   "metadata": {},
   "outputs": [
    {
     "name": "stdout",
     "output_type": "stream",
     "text": [
      "{'name': 'Alice', 'age': 30}\n",
      "{'__module__': '__main__', '__init__': <function Person.__init__ at 0x000001B4BEC80A60>, '__dict__': <attribute '__dict__' of 'Person' objects>, '__weakref__': <attribute '__weakref__' of 'Person' objects>, '__doc__': None}\n",
      "{'name': 'Alice', 'age': 30}\n",
      "['__class__', '__delattr__', '__dict__', '__dir__', '__doc__', '__eq__', '__format__', '__ge__', '__getattribute__', '__gt__', '__hash__', '__init__', '__init_subclass__', '__le__', '__lt__', '__module__', '__ne__', '__new__', '__reduce__', '__reduce_ex__', '__repr__', '__setattr__', '__sizeof__', '__str__', '__subclasshook__', '__weakref__', 'age', 'name']\n"
     ]
    }
   ],
   "source": [
    "#Metadata using __dict__\n",
    "class Person:\n",
    "    def __init__(self, name, age):\n",
    "        self.name = name\n",
    "        self.age = age\n",
    "\n",
    "p = Person(\"Alice\", 30)\n",
    "print(p.__dict__)\n",
    "print(type(p).__dict__)\n",
    "print(vars(p))\n",
    "print(dir(p))\n"
   ]
  },
  {
   "cell_type": "code",
   "execution_count": 19,
   "id": "97ece63a",
   "metadata": {},
   "outputs": [
    {
     "name": "stdout",
     "output_type": "stream",
     "text": [
      "Hi, Alice, 5\n",
      "{'return': <class 'str'>}\n",
      "{'name': <class 'str'>, 'age': <class 'int'>, 'return': <class 'str'>}\n"
     ]
    }
   ],
   "source": [
    "#using __annotations__ for type hinting\n",
    "\n",
    "class Person:\n",
    "    def __init__(self, name:str, age:int) -> str:\n",
    "        self.name = name\n",
    "        self.age = age\n",
    "        \n",
    "    def hello(self) -> str:\n",
    "        print(f\"Hi, {self.name}, {self.age}\")\n",
    "        \n",
    "p = Person(\"Alice\", 5)\n",
    "p.hello()\n",
    "print(p.hello.__annotations__)\n",
    "print(p.__init__.__annotations__)"
   ]
  },
  {
   "cell_type": "code",
   "execution_count": 36,
   "id": "869ebec8",
   "metadata": {},
   "outputs": [
    {
     "name": "stdout",
     "output_type": "stream",
     "text": [
      "{'created_by': 'system', 'version': 1.0}\n"
     ]
    }
   ],
   "source": [
    "#Metadata in Metaclass\n",
    "class MyMeta(type):\n",
    "    def __new__(cls, name, bases, class_dict):\n",
    "        class_dict['metadata'] = {\"created_by\": \"system\", \"version\": 1.0}\n",
    "        return super().__new__(cls, name, bases, class_dict)\n",
    "\n",
    "class MyClass(metaclass=MyMeta):\n",
    "    pass\n",
    "\n",
    "print(MyClass.metadata) "
   ]
  },
  {
   "cell_type": "code",
   "execution_count": 37,
   "id": "19906da6",
   "metadata": {},
   "outputs": [
    {
     "name": "stdout",
     "output_type": "stream",
     "text": [
      "{'unit': 'years'}\n"
     ]
    }
   ],
   "source": [
    "# Metadata added in dataclass field\n",
    "from dataclasses import dataclass, field\n",
    "\n",
    "@dataclass\n",
    "class Child:\n",
    "    name: str\n",
    "    age: int = field(default=10, metadata={\"unit\": \"years\"})  \n",
    "\n",
    "print(Person.__dataclass_fields__[\"age\"].metadata)"
   ]
  }
 ],
 "metadata": {
  "kernelspec": {
   "display_name": "Python 3 (ipykernel)",
   "language": "python",
   "name": "python3"
  },
  "language_info": {
   "codemirror_mode": {
    "name": "ipython",
    "version": 3
   },
   "file_extension": ".py",
   "mimetype": "text/x-python",
   "name": "python",
   "nbconvert_exporter": "python",
   "pygments_lexer": "ipython3",
   "version": "3.9.7"
  }
 },
 "nbformat": 4,
 "nbformat_minor": 5
}
