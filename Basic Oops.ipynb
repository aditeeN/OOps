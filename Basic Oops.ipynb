{
 "cells": [
  {
   "cell_type": "code",
   "execution_count": 14,
   "id": "a2e7d561",
   "metadata": {},
   "outputs": [
    {
     "name": "stdout",
     "output_type": "stream",
     "text": [
      "Welcome\n",
      "101010\n",
      "Your password is 1234\n",
      "Total balance is 1000\n",
      "Amount  200 was debited\n",
      "Total balance is 800\n",
      "Amount  300 was credited\n",
      "Total balance is 1100\n",
      "1100\n",
      "1234\n"
     ]
    }
   ],
   "source": [
    "class Account:\n",
    "    def __init__(self, bal, accNo, psw ):\n",
    "        self._bal = bal\n",
    "        self.accNo = accNo\n",
    "        self.__psw = psw\n",
    "        self.__hello()\n",
    "        \n",
    "    def __hello(self):\n",
    "        self.__welcome()\n",
    "        print(self.accNo)\n",
    "    \n",
    "    @staticmethod\n",
    "    def __welcome():\n",
    "        print(\"Welcome\")\n",
    "        \n",
    "    def debit(self, amount):\n",
    "        self._bal -= amount\n",
    "        print(\"Amount \",amount, \"was debited\")\n",
    "        self.get_balance()\n",
    "    \n",
    "    def credit(self, amount):\n",
    "        self._bal += amount\n",
    "        print(\"Amount \",amount, \"was credited\")\n",
    "        self.get_balance()\n",
    "        \n",
    "    def get_balance(self):\n",
    "        print(\"Total balance is\", self._bal)\n",
    "        \n",
    "    def get_password(self):\n",
    "        print(\"Your password is\", self.__psw)\n",
    "        \n",
    "        \n",
    "a = Account(1000, \"101010\", \"1234\")\n",
    "a.get_password()\n",
    "a.get_balance()\n",
    "a.debit(200)\n",
    "a.credit(300)\n",
    "print(a._bal) #single underscore can be accessed but not double underscore\n",
    "print(a._Account__psw) #for double underscore Name-Mangling is done by python by attaching the _classname before private attribute\n",
    "del a\n"
   ]
  }
 ],
 "metadata": {
  "kernelspec": {
   "display_name": "Python 3 (ipykernel)",
   "language": "python",
   "name": "python3"
  },
  "language_info": {
   "codemirror_mode": {
    "name": "ipython",
    "version": 3
   },
   "file_extension": ".py",
   "mimetype": "text/x-python",
   "name": "python",
   "nbconvert_exporter": "python",
   "pygments_lexer": "ipython3",
   "version": "3.9.7"
  }
 },
 "nbformat": 4,
 "nbformat_minor": 5
}
