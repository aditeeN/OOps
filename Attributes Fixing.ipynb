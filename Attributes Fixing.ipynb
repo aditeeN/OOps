{
 "cells": [
  {
   "cell_type": "code",
   "execution_count": 21,
   "id": "2dae6797",
   "metadata": {},
   "outputs": [
    {
     "ename": "AttributeError",
     "evalue": "'Person' object has no attribute 'city'",
     "output_type": "error",
     "traceback": [
      "\u001b[1;31m---------------------------------------------------------------------------\u001b[0m",
      "\u001b[1;31mAttributeError\u001b[0m                            Traceback (most recent call last)",
      "\u001b[1;32m~\\AppData\\Local\\Temp/ipykernel_33864/933484757.py\u001b[0m in \u001b[0;36m<module>\u001b[1;34m\u001b[0m\n\u001b[0;32m     10\u001b[0m \u001b[0mp\u001b[0m \u001b[1;33m=\u001b[0m \u001b[0mPerson\u001b[0m\u001b[1;33m(\u001b[0m\u001b[1;34m\"Aditee\"\u001b[0m\u001b[1;33m,\u001b[0m\u001b[1;34m\"20\"\u001b[0m\u001b[1;33m)\u001b[0m\u001b[1;33m\u001b[0m\u001b[1;33m\u001b[0m\u001b[0m\n\u001b[0;32m     11\u001b[0m \u001b[0mp\u001b[0m\u001b[1;33m.\u001b[0m\u001b[0mname\u001b[0m \u001b[1;33m=\u001b[0m \u001b[1;34m\"Alice\"\u001b[0m\u001b[1;33m\u001b[0m\u001b[1;33m\u001b[0m\u001b[0m\n\u001b[1;32m---> 12\u001b[1;33m \u001b[0mp\u001b[0m\u001b[1;33m.\u001b[0m\u001b[0mcity\u001b[0m \u001b[1;33m=\u001b[0m \u001b[1;34m\"Mum\"\u001b[0m\u001b[1;33m\u001b[0m\u001b[1;33m\u001b[0m\u001b[0m\n\u001b[0m",
      "\u001b[1;31mAttributeError\u001b[0m: 'Person' object has no attribute 'city'"
     ]
    }
   ],
   "source": [
    "#Using Slots to limit the attributes, doesn't allow for validation \n",
    "\n",
    "class Person:\n",
    "    __slots__ = [\"name\",\"age\"]\n",
    "    \n",
    "    def __init__(self, name, age):\n",
    "        self.name = name\n",
    "        self.age = age\n",
    "        \n",
    "p = Person(\"Aditee\",\"20\")\n",
    "p.name = \"Alice\"\n",
    "p.city = \"Mum\""
   ]
  },
  {
   "cell_type": "code",
   "execution_count": 22,
   "id": "a6088969",
   "metadata": {},
   "outputs": [],
   "source": [
    "#Using dataclass we can fix attributes type and validate (but only once during initialization) after that we need to use setter \n",
    "\n",
    "#allows new attributes to be added\n",
    "\n",
    "from dataclasses import dataclass, field\n",
    "\n",
    "@dataclass\n",
    "class Child:\n",
    "    \n",
    "    name: str\n",
    "    _age: int = field(default=10)\n",
    "\n",
    "    def __post_init__(self):\n",
    "            self.age = self._age\n",
    "    \n",
    "    @property\n",
    "    def age(self):\n",
    "        return self._age\n",
    "    \n",
    "    @age.setter\n",
    "    def age(self, value):\n",
    "        if value < 0 or value > 10:\n",
    "            raise ValueError(\"Age cannot be greater than 10 or negative\")\n",
    "        else:\n",
    "            self._age = value\n",
    "            return self._age\n",
    "\n",
    "p = Child(\"Alice\", 5)\n",
    "#p.age = -1\n",
    "p.city = \"Mumb\""
   ]
  },
  {
   "cell_type": "code",
   "execution_count": 23,
   "id": "3a6fe8f6",
   "metadata": {},
   "outputs": [],
   "source": [
    "#Using dunder function __setattr__, we validate value and key\n",
    "#allows new attributes to be added\n",
    "class Child:\n",
    "    def __init__(self, name, age):\n",
    "        self.__dict__[\"name\"] = name\n",
    "        self.__dict__[\"age\"] = age\n",
    "\n",
    "    def __setattr__(self, key, value):\n",
    "        if key == \"age\" and (value < 0 or value > 10 ):\n",
    "            raise ValueError(\"Age cannot be negative or >10\")\n",
    "        if key == \"name\":\n",
    "            raise AttributeError(\"Cannot modify name\")\n",
    "        self.__dict__[key] = value\n",
    "\n",
    "p = Child(\"Alice\", 5)\n",
    "\n",
    "#p.age = 30   \n",
    "#p.age = -5   \n",
    "\n",
    "#p.name = \"Bob\"\n",
    "\n",
    "p.city = \"AA\""
   ]
  },
  {
   "cell_type": "code",
   "execution_count": 50,
   "id": "6e70e6b1",
   "metadata": {},
   "outputs": [
    {
     "name": "stdout",
     "output_type": "stream",
     "text": [
      "Missing some attribute, hence can't create class Child\n",
      "Missing some attribute, hence can't create class InvalidChild\n"
     ]
    }
   ],
   "source": [
    "#Using Metaclass, we fix attributes numbers and put validation\n",
    "\n",
    "class FixAttributes(type):\n",
    "    def __new__(cls,name,bases,class_dict):\n",
    "        \n",
    "        required_attr = [\"name\",\"age\"]\n",
    "        \n",
    "    \n",
    "        if all(attrs in class_dict for attrs in required_attr) and ('age' in class_dict and (0<=class_dict['age']<=10) ):\n",
    "            print(f\"{name} class created with metaclass {cls.__name__}\")\n",
    "            return super().__new__(cls,name,bases,class_dict)\n",
    "        else:\n",
    "            print(f\"Missing some attribute, hence can't create class {name}\")\n",
    "                \n",
    "class Child(metaclass=FixAttributes):\n",
    "    name = \"Alice\"\n",
    "    age = -3\n",
    "\n",
    "class InvalidChild(metaclass=FixAttributes):\n",
    "    name = \"Mouse\"\n",
    "            "
   ]
  }
 ],
 "metadata": {
  "kernelspec": {
   "display_name": "Python 3 (ipykernel)",
   "language": "python",
   "name": "python3"
  },
  "language_info": {
   "codemirror_mode": {
    "name": "ipython",
    "version": 3
   },
   "file_extension": ".py",
   "mimetype": "text/x-python",
   "name": "python",
   "nbconvert_exporter": "python",
   "pygments_lexer": "ipython3",
   "version": "3.9.7"
  }
 },
 "nbformat": 4,
 "nbformat_minor": 5
}
