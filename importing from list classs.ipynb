{
 "cells": [
  {
   "cell_type": "code",
   "execution_count": 4,
   "id": "83530d92",
   "metadata": {},
   "outputs": [
    {
     "name": "stdout",
     "output_type": "stream",
     "text": [
      "[1, 4, 6, 3]\n",
      "5\n",
      "5\n",
      "4\n",
      "4\n",
      "[1, 4, 6, 9]\n",
      "[1, 4, 6, 9, 9]\n",
      "[1, 4, 6, 9, 5]\n"
     ]
    }
   ],
   "source": [
    "class MyList(list):\n",
    "    \n",
    "    def __getitem__(self, index):\n",
    "        return list.__getitem__(self, index) + 1\n",
    "    \n",
    "    def __setitem__(self, index, value):\n",
    "        return list.__setitem__(self, index, value)\n",
    "    \n",
    "x = MyList([1,4,6,3])\n",
    "            \n",
    "print(x)\n",
    "\n",
    "print(x.__getitem__(1))\n",
    "\n",
    "print(x[1])\n",
    "\n",
    "print(x.__getitem__(-1))\n",
    "\n",
    "print(x[-1])\n",
    "\n",
    "x.__setitem__(-1, 9)\n",
    "print(x)\n",
    "\n",
    "x.append(9)\n",
    "print(x)\n",
    "\n",
    "x[-1] = 5\n",
    "\n",
    "print(x)\n"
   ]
  }
 ],
 "metadata": {
  "kernelspec": {
   "display_name": "Python 3 (ipykernel)",
   "language": "python",
   "name": "python3"
  },
  "language_info": {
   "codemirror_mode": {
    "name": "ipython",
    "version": 3
   },
   "file_extension": ".py",
   "mimetype": "text/x-python",
   "name": "python",
   "nbconvert_exporter": "python",
   "pygments_lexer": "ipython3",
   "version": "3.9.7"
  }
 },
 "nbformat": 4,
 "nbformat_minor": 5
}
