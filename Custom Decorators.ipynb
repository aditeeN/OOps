{
 "cells": [
  {
   "cell_type": "code",
   "execution_count": 23,
   "id": "812e16f6",
   "metadata": {},
   "outputs": [
    {
     "name": "stdout",
     "output_type": "stream",
     "text": [
      "Inside wrapper 1\n",
      "In funct 1 10\n",
      "In funct 1 10\n",
      "Going out of wrapper 1\n",
      "100 ///\n",
      "Inside wrapper 2\n",
      "In funct 2 10\n",
      "Going out of wrapper 2\n",
      "210 ///\n",
      "Inside wrapper 1\n",
      "Inside wrapper 2\n",
      "In funct 3 10\n",
      "Going out of wrapper 2\n",
      "210 ///\n",
      "Inside wrapper 2\n",
      "In funct 3 10\n",
      "Going out of wrapper 2\n",
      "210 ///\n",
      "Going out of wrapper 1\n",
      "44100 ///\n",
      "Inside wrapper 2\n",
      "Inside wrapper 1\n",
      "In funct 4 10\n",
      "In funct 4 10\n",
      "Going out of wrapper 1\n",
      "100 ///\n",
      "Going out of wrapper 2\n",
      "300 ///\n"
     ]
    },
    {
     "data": {
      "text/plain": [
       "300"
      ]
     },
     "execution_count": 23,
     "metadata": {},
     "output_type": "execute_result"
    }
   ],
   "source": [
    "def MyDecor1(funct):\n",
    "    def wrapper(self):\n",
    "        print(\"Inside wrapper 1\")\n",
    "        x = funct(self) * funct(self)\n",
    "        print(\"Going out of wrapper 1\")\n",
    "        print(x, \"///\")\n",
    "        return x\n",
    "    return wrapper\n",
    "\n",
    "\n",
    "def MyDecor2(funct):\n",
    "    def wrapper(self):\n",
    "        print(\"Inside wrapper 2\")\n",
    "        x = funct(self) + 200\n",
    "        print(\"Going out of wrapper 2\")\n",
    "        print(x, \"///\")\n",
    "        return x\n",
    "    return wrapper\n",
    "\n",
    "\n",
    "class MathFunct:\n",
    "    def __init__(self, value):\n",
    "        self.value = value\n",
    "        \n",
    "    @MyDecor1\n",
    "    def funct1(self):\n",
    "        print(\"In funct 1\",self.value*2)\n",
    "        return self.value*2\n",
    "\n",
    "    @MyDecor2\n",
    "    def funct2(self):\n",
    "        print(\"In funct 2\",self.value*2)\n",
    "        return self.value*2\n",
    "\n",
    "    #Decorator chaining MyDecor1(MyDecor2(funct3))\n",
    "    @MyDecor1\n",
    "    @MyDecor2\n",
    "    def funct3(self):\n",
    "        print(\"In funct 3\",self.value*2)\n",
    "        return self.value*2\n",
    "\n",
    "    #Decorator chaining MyDecor2(MyDecor1(funct4))\n",
    "    @MyDecor2\n",
    "    @MyDecor1\n",
    "    def funct4(self):\n",
    "        print(\"In funct 4\",self.value*2)\n",
    "        return self.value*2\n",
    "\n",
    "m = MathFunct(5)\n",
    "m.funct1()\n",
    "m.funct2()\n",
    "m.funct3()\n",
    "m.funct4()"
   ]
  }
 ],
 "metadata": {
  "kernelspec": {
   "display_name": "Python 3 (ipykernel)",
   "language": "python",
   "name": "python3"
  },
  "language_info": {
   "codemirror_mode": {
    "name": "ipython",
    "version": 3
   },
   "file_extension": ".py",
   "mimetype": "text/x-python",
   "name": "python",
   "nbconvert_exporter": "python",
   "pygments_lexer": "ipython3",
   "version": "3.9.7"
  }
 },
 "nbformat": 4,
 "nbformat_minor": 5
}
