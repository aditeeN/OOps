{
 "cells": [
  {
   "cell_type": "code",
   "execution_count": 12,
   "id": "eee06771",
   "metadata": {},
   "outputs": [
    {
     "name": "stdout",
     "output_type": "stream",
     "text": [
      "GFG(\"Geeks\",\"For\",\"Geeks\")\n",
      "GFG(\"Geeks\",\"For\",\"Geeks\")\n"
     ]
    }
   ],
   "source": [
    "#printable fromat of object  #repr() used for development, debugging, can create object with op of this vs str() user friendly representation.\n",
    "class GFG:\n",
    "   \n",
    "    def __init__(self, f_name, m_name, l_name):\n",
    "        self.f_name = f_name\n",
    "        self.m_name = m_name\n",
    "        self.l_name = l_name\n",
    " \n",
    "    def __repr__(self):\n",
    "        return f'GFG(\"{self.f_name}\",\"{self.m_name}\",\"{self.l_name}\")'\n",
    "\n",
    "a = GFG(\"Geeks\", \"For\", \"Geeks\")\n",
    "\n",
    "print(a)\n",
    "print(repr(a))"
   ]
  },
  {
   "cell_type": "code",
   "execution_count": 4,
   "id": "73417ac8",
   "metadata": {},
   "outputs": [
    {
     "name": "stdout",
     "output_type": "stream",
     "text": [
      "Complex No.: 2 + 5i\n",
      "Rational(3, 6)\n",
      "Complex No.: 3 + 6i\n",
      "<class '__main__.Rational'>\n"
     ]
    }
   ],
   "source": [
    "class Complex():\n",
    "    def __init__(self, real, img):\n",
    "        self.set_Complex(real, img)\n",
    "        \n",
    "    def set_Complex(self, real, img):\n",
    "        if type(real) == int and type(img) == int:\n",
    "            self._real = real\n",
    "            self._img = img\n",
    "            \n",
    "        else:\n",
    "            raise TypeError(\"Real and Imginary components have to be integers\")\n",
    "    \n",
    "    def __str__(self):\n",
    "        return f\"Complex No.: {self._real} + {self._img}i\"\n",
    "    \n",
    "    def __repr__(self):\n",
    "        return \"Rational({0:d}, {1:d})\".format(self._real+1,self._img+1)\n",
    "    \n",
    "class Rational(Complex):\n",
    "    def __init__(self, real, img):\n",
    "        super().set_Complex(real, img)\n",
    "        #pass\n",
    "    \n",
    "#without ovveriding repr() and str() method we get o/p as <__main__.Complex object at 0x00000193C2F01880>   \n",
    "        \n",
    "x = Complex(2,5)      \n",
    "print(x)\n",
    "print(repr(x))\n",
    "\n",
    "r = eval(repr(x)) #using eval to create the instance from output as a class instead as a (repr o/p) string  \n",
    "print(r)\n",
    "print(type(r))"
   ]
  }
 ],
 "metadata": {
  "kernelspec": {
   "display_name": "Python 3 (ipykernel)",
   "language": "python",
   "name": "python3"
  },
  "language_info": {
   "codemirror_mode": {
    "name": "ipython",
    "version": 3
   },
   "file_extension": ".py",
   "mimetype": "text/x-python",
   "name": "python",
   "nbconvert_exporter": "python",
   "pygments_lexer": "ipython3",
   "version": "3.9.7"
  }
 },
 "nbformat": 4,
 "nbformat_minor": 5
}
