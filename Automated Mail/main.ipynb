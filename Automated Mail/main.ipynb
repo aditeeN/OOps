{
 "cells": [
  {
   "cell_type": "code",
   "execution_count": 81,
   "id": "b1a8a4fb",
   "metadata": {},
   "outputs": [],
   "source": [
    "import datetime, requests\n",
    "articles = []\n",
    "\n",
    "class NewsBlock:\n",
    "    \n",
    "    news_api = \"https://newsapi.org/v2/everything?\"\n",
    "    api_key = \"0b229aca483a4c12bd9e9924eb9c5ffe\"\n",
    "    \n",
    "    def __init__(self, from_date, interest):\n",
    "        self.from_date = from_date\n",
    "        self.interest = interest\n",
    "        \n",
    "    @property\n",
    "    def newsURL(self):\n",
    "        return f'{self.news_api}q={self.interest}&from={self.from_date}&sortBy=popularity&apiKey={self.api_key}'\n",
    "    \n",
    "    def get_articles(self):\n",
    "        resp = requests.get(self.newsURL)\n",
    "        data = resp.json()\n",
    "        #print(data, self.newsURL)\n",
    "        news_items = data['articles']\n",
    "        #print(\"in get_articles\")\n",
    "        return news_items\n",
    "        \n",
    "        \n",
    "    def createEmailBody(self):\n",
    "        \n",
    "        email_body = \"\"\n",
    "        \n",
    "        articles = self.get_articles()\n",
    "        \n",
    "        for i, article in enumerate(articles):\n",
    "            #print(\"in here\")\n",
    "            email_body += str(i+1) + \") \" + article[\"title\"] + \"\\n\" + article[\"url\"] + \"\\n\\n\"\n",
    "            \n",
    "        return email_body\n",
    "            \n",
    "    \n",
    "if __name__ == \"__main__\":\n",
    "    news = NewsBlock(from_date=\"2025-02-27\", interest=\"tesla\")\n",
    "    #print((news.createEmailBody()))\n"
   ]
  }
 ],
 "metadata": {
  "kernelspec": {
   "display_name": "Python 3 (ipykernel)",
   "language": "python",
   "name": "python3"
  },
  "language_info": {
   "codemirror_mode": {
    "name": "ipython",
    "version": 3
   },
   "file_extension": ".py",
   "mimetype": "text/x-python",
   "name": "python",
   "nbconvert_exporter": "python",
   "pygments_lexer": "ipython3",
   "version": "3.9.7"
  }
 },
 "nbformat": 4,
 "nbformat_minor": 5
}
