{
 "cells": [
  {
   "cell_type": "code",
   "execution_count": 55,
   "id": "d3c5b51c",
   "metadata": {},
   "outputs": [
    {
     "name": "stdout",
     "output_type": "stream",
     "text": [
      "in call\n",
      "1\n",
      "in call\n",
      "2\n",
      "in call\n",
      "11\n",
      "A B B\n"
     ]
    }
   ],
   "source": [
    "class Doubleton(type):\n",
    "    \n",
    "    instances = []\n",
    "    \n",
    "    def __call__(cls, *args, **kwargs):# Call is called when instance is created vs New is called before class is created\n",
    "        print(\"in call\")\n",
    "        if len(cls.instances)< 2:\n",
    "            instance = super().__call__(*args, **kwargs)\n",
    "            cls.instances.append(instance)\n",
    "            print(len(cls.instances))\n",
    "            return instance\n",
    "        print(\"11\")\n",
    "        return cls.instances[-1] #need to retun instance when 3rd instance created\n",
    "    \n",
    "class est(metaclass=Doubleton):\n",
    "    \n",
    "    def __init__(self, name):\n",
    "        self.name = name\n",
    "\n",
    "a = est(\"A\")\n",
    "b = est(\"B\")\n",
    "c = est(\"C\")\n",
    "\n",
    "print(a.name, b.name, c.name)"
   ]
  },
  {
   "cell_type": "code",
   "execution_count": 84,
   "id": "89c0d9f8",
   "metadata": {},
   "outputs": [
    {
     "name": "stdout",
     "output_type": "stream",
     "text": [
      "[<__main__.Singleton object at 0x000001ADEB702D60>] [<__main__.Singleton object at 0x000001ADEB702D60>]\n"
     ]
    }
   ],
   "source": [
    "class SingletonMeta(type):\n",
    "    instances = []\n",
    "    \n",
    "    def __call__(cls,*args, **kwargs):\n",
    "        #print(cls.__name__)\n",
    "        if any(cls for cls in cls.instances):\n",
    "            \n",
    "            #print(cls, len(cls.instances))\n",
    "            \n",
    "            return cls.instances\n",
    "        else:\n",
    "            #print(len(cls.instances))\n",
    "            cls.instances.append(super().__call__(*args,**kwargs))\n",
    "            return cls.instances\n",
    "\n",
    "class Singleton(metaclass=SingletonMeta):\n",
    "    pass\n",
    "\n",
    "a = Singleton()\n",
    "b = Singleton()\n",
    "print(a,b)\n",
    "#print(a.__class__ b.__class__)"
   ]
  },
  {
   "cell_type": "code",
   "execution_count": 33,
   "id": "d38a0ce0",
   "metadata": {},
   "outputs": [
    {
     "name": "stdout",
     "output_type": "stream",
     "text": [
      "Creating class A with 0 bases: ()\n",
      "Creating class B with 0 bases: ()\n",
      "Creating class C with 0 bases: ()\n",
      "Creating class D with 1 bases: (<class '__main__.A'>,)\n",
      "Instance of D\n",
      "(<class '__main__.A'>,)\n",
      "<class '__main__.D'>\n",
      "True\n",
      "True\n",
      "[<class '__main__.D'>, <class '__main__.A'>, <class 'object'>]\n",
      "(<class '__main__.OnlyTwoBase'>, <class 'type'>, <class 'object'>)\n"
     ]
    }
   ],
   "source": [
    "class OnlyTwoBase(type):\n",
    "    \n",
    "    def __new__(cls, name, bases, class_dict):\n",
    "        if len(bases)<=2 and name == \"A\"or \"D\":\n",
    "            print(f\"Creating class {name} with {len(bases)} bases: {bases}\")\n",
    "            return super().__new__(cls,name,bases,class_dict)\n",
    "        else:\n",
    "            print(f\"Can inherit from only two base classes {bases} and {len(bases)} with name A not {name}\")\n",
    "    \n",
    "class A(metaclass=OnlyTwoBase):\n",
    "    def __init__(self):\n",
    "        print(\"A\")\n",
    "    \n",
    "class B(metaclass=OnlyTwoBase):\n",
    "    def __init__(self):\n",
    "        print(\"B\")\n",
    "    \n",
    "class C(metaclass=OnlyTwoBase):\n",
    "    def __init__(self):\n",
    "        print(\"C\")\n",
    "    \n",
    "    \n",
    "class D(A):\n",
    "    def __init__(self):\n",
    "        print(\"Instance of D\")\n",
    "        \n",
    "    \n",
    "a = D()\n",
    "print(a.__class__.__bases__)#get the parent class\n",
    "print(a.__class__)\n",
    "print(issubclass(D,A))\n",
    "print(isinstance(a,D))\n",
    "print(D.mro())\n",
    "print(type(D).__mro__) #get the metaclass mro list"
   ]
  },
  {
   "cell_type": "code",
   "execution_count": 10,
   "id": "893c2693",
   "metadata": {},
   "outputs": [
    {
     "name": "stdout",
     "output_type": "stream",
     "text": [
      "MyBase\n",
      "object\n",
      "Created class D\n",
      "object\n",
      "Not allowed to create class B\n",
      "D\n",
      "object\n",
      "Not allowed to create class A\n",
      "Instance of D created\n",
      "[<class '__main__.D'>, <class '__main__.MyBase'>, <class 'object'>]\n",
      "(<class '__main__.MyBase'>,)\n"
     ]
    }
   ],
   "source": [
    "class EnforcingBaseClass(type):\n",
    "    \n",
    "    \n",
    "    def __new__(cls,name,bases,class_dict):\n",
    "        \n",
    "        required_base = \"MyBase\"\n",
    "        for base in bases + (object,):\n",
    "            print(base.__name__)\n",
    "        \n",
    "        if any(required_base in base.__name__ for base in bases):\n",
    "            print(f\"Created class {name}\")\n",
    "            return super().__new__(cls, name, bases,class_dict)\n",
    "        else:\n",
    "            \n",
    "            print(f\"Not allowed to create class {name}\")\n",
    "\n",
    "class MyBase:\n",
    "    def __init__(self):\n",
    "        print(\"MyBase\")\n",
    "    \n",
    "    \n",
    "class D(MyBase, metaclass=EnforcingBaseClass):\n",
    "    def __init__(self):\n",
    "        print(\"Instance of D created\")\n",
    "\n",
    "class B(metaclass=EnforcingBaseClass):\n",
    "    def __init__(self):\n",
    "        print(\"B\")\n",
    "        \n",
    "class A(D): #Indirect inheritance doesn't give __main__.Mybase, instead it gives __main__.D, hence not created \n",
    "    def __init__(self):\n",
    "        print(\"A\")\n",
    "        \n",
    "        \n",
    "d = D()\n",
    "print(D.mro())\n",
    "print(d.__class__.__bases__)\n",
    "\n"
   ]
  },
  {
   "cell_type": "code",
   "execution_count": 57,
   "id": "078a5568",
   "metadata": {},
   "outputs": [
    {
     "name": "stdout",
     "output_type": "stream",
     "text": [
      "D\n",
      "MyBase\n",
      "object\n",
      "Created class D\n",
      "B\n",
      "object\n",
      "Not allowed to create class B\n",
      "A\n",
      "D\n",
      "MyBase\n",
      "object\n",
      "Created class A\n"
     ]
    }
   ],
   "source": [
    "class EnforcingBaseClassMRO(type):\n",
    "    \n",
    "    \n",
    "    def __new__(cls,name,bases,class_dict):\n",
    "        \n",
    "        required_base = \"MyBase\"\n",
    "        \n",
    "        new_cls = super().__new__(cls, name, bases,class_dict)\n",
    "        \n",
    "        for base in new_cls.__mro__:\n",
    "            print(base.__name__)\n",
    "        \n",
    "        if not any(required_base in base.__name__ for base in new_cls.__mro__):\n",
    "            print(f\"Not allowed to create class {name}\")\n",
    "            \n",
    "        else: \n",
    "            print(f\"Created class {name}\")\n",
    "            return new_cls\n",
    "            \n",
    "            \n",
    "\n",
    "class MyBase:\n",
    "    def __init__(self):\n",
    "        print(\"Instance of MyBase\")\n",
    "    \n",
    "    \n",
    "class D(MyBase, metaclass=EnforcingBaseClassMRO):\n",
    "    def __init__(self):\n",
    "        print(\"Instance of D\")\n",
    "\n",
    "class B(metaclass=EnforcingBaseClassMRO):\n",
    "    def __init__(self):\n",
    "        print(\"Instance of B\")\n",
    "        \n",
    "class A(D): #Indirect inheritance MRO chain gives __main__.Mybase, after  __main__.D, hence \n",
    "    def __init__(self):\n",
    "        print(\"Instance of A\")\n"
   ]
  },
  {
   "cell_type": "code",
   "execution_count": 54,
   "id": "c64a9840",
   "metadata": {},
   "outputs": [
    {
     "name": "stdout",
     "output_type": "stream",
     "text": [
      "{'__module__': '__main__', '__qualname__': 'Person', 'name': 'Default', 'age': 30}\n",
      "Missing some attribute, hence can't create class InvalidPerson\n"
     ]
    }
   ],
   "source": [
    "class FixAttributes(type):\n",
    "    def __new__(cls,name,bases,class_dict):\n",
    "        \n",
    "        required_attr = [\"name\",\"age\"]\n",
    "        \n",
    "    \n",
    "        if all(attrs in class_dict for attrs in required_attr):\n",
    "            print(f\"{class_dict}\")\n",
    "            return super().__new__(cls,name,bases,class_dict)\n",
    "        else:\n",
    "            print(f\"Missing some attribute, hence can't create class {name}\")\n",
    "                \n",
    "class Person(metaclass=FixAttributes):\n",
    "    name = \"Default\"\n",
    "    age = 30\n",
    "\n",
    "class InvalidPerson(metaclass=FixAttributes):\n",
    "    name = \"Missing age\"\n",
    "            "
   ]
  }
 ],
 "metadata": {
  "kernelspec": {
   "display_name": "Python 3 (ipykernel)",
   "language": "python",
   "name": "python3"
  },
  "language_info": {
   "codemirror_mode": {
    "name": "ipython",
    "version": 3
   },
   "file_extension": ".py",
   "mimetype": "text/x-python",
   "name": "python",
   "nbconvert_exporter": "python",
   "pygments_lexer": "ipython3",
   "version": "3.9.7"
  }
 },
 "nbformat": 4,
 "nbformat_minor": 5
}
