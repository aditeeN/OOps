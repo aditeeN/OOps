{
 "cells": [
  {
   "cell_type": "code",
   "execution_count": 44,
   "id": "c1ab000c",
   "metadata": {},
   "outputs": [
    {
     "name": "stdout",
     "output_type": "stream",
     "text": [
      "In A <class '__main__.A'> <class '__main__.A'>\n",
      "In method of A\n",
      "In B\n",
      "In A <class '__main__.A'> <class '__main__.B'>\n",
      "In method of B 23\n",
      "In method of A\n",
      "In C\n",
      "In A <class '__main__.A'> <class '__main__.C'>\n",
      "In method of C\n",
      "In method of A\n",
      "In D\n",
      "In B\n",
      "In C\n",
      "In A <class '__main__.A'> <class '__main__.D'>\n",
      "In A <class '__main__.A'> <class '__main__.D'>\n",
      "In method of D\n",
      "In method of B 22\n",
      "In method of C\n",
      "In method of A\n"
     ]
    },
    {
     "data": {
      "text/plain": [
       "(__main__.D, __main__.B, __main__.C, __main__.A, object)"
      ]
     },
     "execution_count": 44,
     "metadata": {},
     "output_type": "execute_result"
    }
   ],
   "source": [
    "#Deadly diamond for multiple inheritance\n",
    "#Prev. Versions : MRO order : depth first then left to right\n",
    "#New vers.: lafet to right then depth\n",
    "\n",
    "class A(object):\n",
    "    def __init__(self, name,*args,**kwargs):\n",
    "        print(\"In A\", __class__, self.__class__)\n",
    "        self.name = name\n",
    "        \n",
    "    def method(self, *args,**kwargs):\n",
    "        print(\"In method of A\")\n",
    "        \n",
    "class B(A):\n",
    "    def __init__(self, name, age, *args, **kwargs):\n",
    "        print(\"In B\")\n",
    "        super().__init__(name, *args,**kwargs)\n",
    "        self.age = age\n",
    "    \n",
    "    def method(self, age,*args,**kwargs):\n",
    "        print(f\"In method of B\", self.age)\n",
    "        super().method(*args,**kwargs)\n",
    "        \n",
    "class C(A):\n",
    "    def __init__(self, name, *args, **kwargs):\n",
    "        print(\"In C\")\n",
    "        super().__init__(name,  *args, **kwargs)\n",
    "\n",
    "    \n",
    "    def method(self,*args,**kwargs):\n",
    "        print(f\"In method of C\")\n",
    "        super().method(*args,**kwargs)\n",
    "        \n",
    "class D(B,C):\n",
    "    def __init__(self, name, age, *args,**kwargs):\n",
    "        print(\"In D\")\n",
    "        super().__init__(name, age,*args,**kwargs)\n",
    "        #A.__init__(self, name)\n",
    "    \n",
    "    def method(self,age,*args,**kwargs):\n",
    "        print(f\"In method of D\")\n",
    "        super().method(age, *args,**kwargs)\n",
    "        \n",
    "        \n",
    "        \n",
    "        \n",
    "a = A(\"Alice\")\n",
    "a.method()\n",
    "b = B(\"Bob\", 23)\n",
    "b.method(22)\n",
    "c = C(\"Cat\")\n",
    "c.method()\n",
    "d = D(\"Mouse\", 22)\n",
    "d.method(21)\n",
    "D.__mro__ #Mrthod resolution order"
   ]
  }
 ],
 "metadata": {
  "kernelspec": {
   "display_name": "Python 3 (ipykernel)",
   "language": "python",
   "name": "python3"
  },
  "language_info": {
   "codemirror_mode": {
    "name": "ipython",
    "version": 3
   },
   "file_extension": ".py",
   "mimetype": "text/x-python",
   "name": "python",
   "nbconvert_exporter": "python",
   "pygments_lexer": "ipython3",
   "version": "3.9.7"
  }
 },
 "nbformat": 4,
 "nbformat_minor": 5
}
